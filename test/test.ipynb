{
 "cells": [
  {
   "cell_type": "markdown",
   "metadata": {},
   "source": [
    "# Test script\n",
    "\n",
    "This script is for initial tests of qgas features"
   ]
  },
  {
   "cell_type": "code",
   "execution_count": 1,
   "metadata": {},
   "outputs": [
    {
     "data": {
      "text/plain": [
       "5×5 Matrix{Float64}:\n",
       " 200.0  125.0  100.0  125.0  200.0\n",
       " 125.0   50.0   25.0   50.0  125.0\n",
       " 100.0   25.0    0.0   25.0  100.0\n",
       " 125.0   50.0   25.0   50.0  125.0\n",
       " 200.0  125.0  100.0  125.0  200.0"
      ]
     },
     "metadata": {},
     "output_type": "display_data"
    }
   ],
   "source": [
    "# using Revise\n",
    "import QGas.NumericalTools.ImageProcessing as ImProc\n",
    "import QGas.NumericalTools.ArrayDimensions as AD\n",
    "\n",
    "x = range(-10,10,length=5)\n",
    "y = range(-10,10,length=5)\n",
    "ndrange = AD.NDRange((x,y))\n",
    "\n",
    "xy = [sum(xy.^2) for xy in ndrange]\n"
   ]
  },
  {
   "cell_type": "code",
   "execution_count": 3,
   "metadata": {},
   "outputs": [
    {
     "data": {
      "text/plain": [
       "5×5 QGas.NumericalTools.ArrayDimensions.NDRange{2}:\n",
       " [-10.0, -10.0]  [-10.0, -5.0]  [-10.0, 0.0]  [-10.0, 5.0]  [-10.0, 10.0]\n",
       " [-5.0, -10.0]   [-5.0, -5.0]   [-5.0, 0.0]   [-5.0, 5.0]   [-5.0, 10.0]\n",
       " [0.0, -10.0]    [0.0, -5.0]    [0.0, 0.0]    [0.0, 5.0]    [0.0, 10.0]\n",
       " [5.0, -10.0]    [5.0, -5.0]    [5.0, 0.0]    [5.0, 5.0]    [5.0, 10.0]\n",
       " [10.0, -10.0]   [10.0, -5.0]   [10.0, 0.0]   [10.0, 5.0]   [10.0, 10.0]"
      ]
     },
     "metadata": {},
     "output_type": "display_data"
    }
   ],
   "source": [
    "ndrange = AD.NDRange((x,y))"
   ]
  },
  {
   "cell_type": "code",
   "execution_count": 11,
   "metadata": {},
   "outputs": [
    {
     "data": {
      "text/plain": [
       "5×5 Matrix{Float64}:\n",
       " 200.0  125.0  100.0  125.0  200.0\n",
       " 125.0   50.0   25.0   50.0  125.0\n",
       " 100.0   25.0    0.0   25.0  100.0\n",
       " 125.0   50.0   25.0   50.0  125.0\n",
       " 200.0  125.0  100.0  125.0  200.0"
      ]
     },
     "metadata": {},
     "output_type": "display_data"
    }
   ],
   "source": [
    "xy = [sum(xy.^2) for xy in ndrange]"
   ]
  },
  {
   "cell_type": "code",
   "execution_count": 15,
   "metadata": {},
   "outputs": [
    {
     "name": "stdout",
     "output_type": "stream",
     "text": [
      "[-10.0, -10.0][-5.0, -10.0][0.0, -10.0][5.0, -10.0][10.0, -10.0][-10.0, -5.0][-5.0, -5.0][0.0, -5.0][5.0, -5.0][10.0, -5.0][-10.0, 0.0][-5.0, 0.0][0.0, 0.0][5.0, 0.0][10.0, 0.0][-10.0, 5.0][-5.0, 5.0][0.0, 5.0][5.0, 5.0][10.0, 5.0][-10.0, 10.0][-5.0, 10.0][0.0, 10.0][5.0, 10.0][10.0, 10.0]"
     ]
    }
   ],
   "source": [
    "for idx in CartesianIndices(ndrange)\n",
    "    print(ndrange[idx])\n",
    "end"
   ]
  },
  {
   "cell_type": "code",
   "execution_count": null,
   "metadata": {},
   "outputs": [],
   "source": []
  }
 ],
 "metadata": {
  "kernelspec": {
   "display_name": "Julia 1.10.2",
   "language": "julia",
   "name": "julia-1.10"
  },
  "language_info": {
   "file_extension": ".jl",
   "mimetype": "application/julia",
   "name": "julia",
   "version": "1.10.2"
  },
  "orig_nbformat": 4
 },
 "nbformat": 4,
 "nbformat_minor": 2
}
